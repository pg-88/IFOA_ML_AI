{
 "cells": [
  {
   "cell_type": "markdown",
   "metadata": {},
   "source": [
    "# Parametri DBSCAN\n",
    "\n",
    "Cerchiamo di capire meglio come utilizzare i parametri"
   ]
  },
  {
   "cell_type": "markdown",
   "metadata": {},
   "source": [
    "## DBSCAN and Clustering Examples"
   ]
  },
  {
   "cell_type": "code",
   "execution_count": 2,
   "metadata": {},
   "outputs": [],
   "source": [
    "import numpy as np\n",
    "import pandas as pd\n",
    "import matplotlib.pyplot as plt\n",
    "import seaborn as sns"
   ]
  },
  {
   "cell_type": "code",
   "execution_count": 3,
   "metadata": {},
   "outputs": [],
   "source": [
    "two_blobs = pd.read_csv('https://raw.githubusercontent.com/pg-88/IFOA_ML_AI/main/Risorse/dataset/cluster-two-blobs.csv')\n",
    "two_blobs_outliers = pd.read_csv('https://raw.githubusercontent.com/pg-88/IFOA_ML_AI/main/Risorse/dataset/cluster-two-blobs-outliers.csv')"
   ]
  },
  {
   "cell_type": "code",
   "execution_count": 7,
   "metadata": {},
   "outputs": [],
   "source": [
    "# grafici"
   ]
  },
  {
   "cell_type": "markdown",
   "metadata": {},
   "source": [
    "## Ricerca delle Label"
   ]
  },
  {
   "cell_type": "code",
   "execution_count": 6,
   "metadata": {},
   "outputs": [],
   "source": [
    "def display_categories(model,data):\n",
    "    labels = model.fit_predict(data)\n",
    "    sns.scatterplot(data=data,x='X1',y='X2',hue=labels,palette='Set1')"
   ]
  },
  {
   "cell_type": "markdown",
   "metadata": {},
   "source": [
    "## DBSCAN"
   ]
  },
  {
   "cell_type": "code",
   "execution_count": 8,
   "metadata": {},
   "outputs": [],
   "source": [
    "from sklearn.cluster import DBSCAN"
   ]
  },
  {
   "cell_type": "code",
   "execution_count": 9,
   "metadata": {},
   "outputs": [
    {
     "name": "stdout",
     "output_type": "stream",
     "text": [
      "Help on class DBSCAN in module sklearn.cluster._dbscan:\n",
      "\n",
      "class DBSCAN(sklearn.base.ClusterMixin, sklearn.base.BaseEstimator)\n",
      " |  DBSCAN(eps=0.5, *, min_samples=5, metric='euclidean', metric_params=None, algorithm='auto', leaf_size=30, p=None, n_jobs=None)\n",
      " |  \n",
      " |  Perform DBSCAN clustering from vector array or distance matrix.\n",
      " |  \n",
      " |  DBSCAN - Density-Based Spatial Clustering of Applications with Noise.\n",
      " |  Finds core samples of high density and expands clusters from them.\n",
      " |  Good for data which contains clusters of similar density.\n",
      " |  \n",
      " |  Read more in the :ref:`User Guide <dbscan>`.\n",
      " |  \n",
      " |  Parameters\n",
      " |  ----------\n",
      " |  eps : float, default=0.5\n",
      " |      The maximum distance between two samples for one to be considered\n",
      " |      as in the neighborhood of the other. This is not a maximum bound\n",
      " |      on the distances of points within a cluster. This is the most\n",
      " |      important DBSCAN parameter to choose appropriately for your data set\n",
      " |      and distance function.\n",
      " |  \n",
      " |  min_samples : int, default=5\n",
      " |      The number of samples (or total weight) in a neighborhood for a point\n",
      " |      to be considered as a core point. This includes the point itself.\n",
      " |  \n",
      " |  metric : str, or callable, default='euclidean'\n",
      " |      The metric to use when calculating distance between instances in a\n",
      " |      feature array. If metric is a string or callable, it must be one of\n",
      " |      the options allowed by :func:`sklearn.metrics.pairwise_distances` for\n",
      " |      its metric parameter.\n",
      " |      If metric is \"precomputed\", X is assumed to be a distance matrix and\n",
      " |      must be square. X may be a :term:`sparse graph`, in which\n",
      " |      case only \"nonzero\" elements may be considered neighbors for DBSCAN.\n",
      " |  \n",
      " |      .. versionadded:: 0.17\n",
      " |         metric *precomputed* to accept precomputed sparse matrix.\n",
      " |  \n",
      " |  metric_params : dict, default=None\n",
      " |      Additional keyword arguments for the metric function.\n",
      " |  \n",
      " |      .. versionadded:: 0.19\n",
      " |  \n",
      " |  algorithm : {'auto', 'ball_tree', 'kd_tree', 'brute'}, default='auto'\n",
      " |      The algorithm to be used by the NearestNeighbors module\n",
      " |      to compute pointwise distances and find nearest neighbors.\n",
      " |      See NearestNeighbors module documentation for details.\n",
      " |  \n",
      " |  leaf_size : int, default=30\n",
      " |      Leaf size passed to BallTree or cKDTree. This can affect the speed\n",
      " |      of the construction and query, as well as the memory required\n",
      " |      to store the tree. The optimal value depends\n",
      " |      on the nature of the problem.\n",
      " |  \n",
      " |  p : float, default=None\n",
      " |      The power of the Minkowski metric to be used to calculate distance\n",
      " |      between points. If None, then ``p=2`` (equivalent to the Euclidean\n",
      " |      distance).\n",
      " |  \n",
      " |  n_jobs : int, default=None\n",
      " |      The number of parallel jobs to run.\n",
      " |      ``None`` means 1 unless in a :obj:`joblib.parallel_backend` context.\n",
      " |      ``-1`` means using all processors. See :term:`Glossary <n_jobs>`\n",
      " |      for more details.\n",
      " |  \n",
      " |  Attributes\n",
      " |  ----------\n",
      " |  core_sample_indices_ : ndarray of shape (n_core_samples,)\n",
      " |      Indices of core samples.\n",
      " |  \n",
      " |  components_ : ndarray of shape (n_core_samples, n_features)\n",
      " |      Copy of each core sample found by training.\n",
      " |  \n",
      " |  labels_ : ndarray of shape (n_samples)\n",
      " |      Cluster labels for each point in the dataset given to fit().\n",
      " |      Noisy samples are given the label -1.\n",
      " |  \n",
      " |  n_features_in_ : int\n",
      " |      Number of features seen during :term:`fit`.\n",
      " |  \n",
      " |      .. versionadded:: 0.24\n",
      " |  \n",
      " |  feature_names_in_ : ndarray of shape (`n_features_in_`,)\n",
      " |      Names of features seen during :term:`fit`. Defined only when `X`\n",
      " |      has feature names that are all strings.\n",
      " |  \n",
      " |      .. versionadded:: 1.0\n",
      " |  \n",
      " |  See Also\n",
      " |  --------\n",
      " |  OPTICS : A similar clustering at multiple values of eps. Our implementation\n",
      " |      is optimized for memory usage.\n",
      " |  \n",
      " |  Notes\n",
      " |  -----\n",
      " |  For an example, see :ref:`examples/cluster/plot_dbscan.py\n",
      " |  <sphx_glr_auto_examples_cluster_plot_dbscan.py>`.\n",
      " |  \n",
      " |  This implementation bulk-computes all neighborhood queries, which increases\n",
      " |  the memory complexity to O(n.d) where d is the average number of neighbors,\n",
      " |  while original DBSCAN had memory complexity O(n). It may attract a higher\n",
      " |  memory complexity when querying these nearest neighborhoods, depending\n",
      " |  on the ``algorithm``.\n",
      " |  \n",
      " |  One way to avoid the query complexity is to pre-compute sparse\n",
      " |  neighborhoods in chunks using\n",
      " |  :func:`NearestNeighbors.radius_neighbors_graph\n",
      " |  <sklearn.neighbors.NearestNeighbors.radius_neighbors_graph>` with\n",
      " |  ``mode='distance'``, then using ``metric='precomputed'`` here.\n",
      " |  \n",
      " |  Another way to reduce memory and computation time is to remove\n",
      " |  (near-)duplicate points and use ``sample_weight`` instead.\n",
      " |  \n",
      " |  :class:`cluster.OPTICS` provides a similar clustering with lower memory\n",
      " |  usage.\n",
      " |  \n",
      " |  References\n",
      " |  ----------\n",
      " |  Ester, M., H. P. Kriegel, J. Sander, and X. Xu, `\"A Density-Based\n",
      " |  Algorithm for Discovering Clusters in Large Spatial Databases with Noise\"\n",
      " |  <https://www.aaai.org/Papers/KDD/1996/KDD96-037.pdf>`_.\n",
      " |  In: Proceedings of the 2nd International Conference on Knowledge Discovery\n",
      " |  and Data Mining, Portland, OR, AAAI Press, pp. 226-231. 1996\n",
      " |  \n",
      " |  Schubert, E., Sander, J., Ester, M., Kriegel, H. P., & Xu, X. (2017).\n",
      " |  :doi:`\"DBSCAN revisited, revisited: why and how you should (still) use DBSCAN.\"\n",
      " |  <10.1145/3068335>`\n",
      " |  ACM Transactions on Database Systems (TODS), 42(3), 19.\n",
      " |  \n",
      " |  Examples\n",
      " |  --------\n",
      " |  >>> from sklearn.cluster import DBSCAN\n",
      " |  >>> import numpy as np\n",
      " |  >>> X = np.array([[1, 2], [2, 2], [2, 3],\n",
      " |  ...               [8, 7], [8, 8], [25, 80]])\n",
      " |  >>> clustering = DBSCAN(eps=3, min_samples=2).fit(X)\n",
      " |  >>> clustering.labels_\n",
      " |  array([ 0,  0,  0,  1,  1, -1])\n",
      " |  >>> clustering\n",
      " |  DBSCAN(eps=3, min_samples=2)\n",
      " |  \n",
      " |  Method resolution order:\n",
      " |      DBSCAN\n",
      " |      sklearn.base.ClusterMixin\n",
      " |      sklearn.base.BaseEstimator\n",
      " |      builtins.object\n",
      " |  \n",
      " |  Methods defined here:\n",
      " |  \n",
      " |  __init__(self, eps=0.5, *, min_samples=5, metric='euclidean', metric_params=None, algorithm='auto', leaf_size=30, p=None, n_jobs=None)\n",
      " |      Initialize self.  See help(type(self)) for accurate signature.\n",
      " |  \n",
      " |  fit(self, X, y=None, sample_weight=None)\n",
      " |      Perform DBSCAN clustering from features, or distance matrix.\n",
      " |      \n",
      " |      Parameters\n",
      " |      ----------\n",
      " |      X : {array-like, sparse matrix} of shape (n_samples, n_features), or             (n_samples, n_samples)\n",
      " |          Training instances to cluster, or distances between instances if\n",
      " |          ``metric='precomputed'``. If a sparse matrix is provided, it will\n",
      " |          be converted into a sparse ``csr_matrix``.\n",
      " |      \n",
      " |      y : Ignored\n",
      " |          Not used, present here for API consistency by convention.\n",
      " |      \n",
      " |      sample_weight : array-like of shape (n_samples,), default=None\n",
      " |          Weight of each sample, such that a sample with a weight of at least\n",
      " |          ``min_samples`` is by itself a core sample; a sample with a\n",
      " |          negative weight may inhibit its eps-neighbor from being core.\n",
      " |          Note that weights are absolute, and default to 1.\n",
      " |      \n",
      " |      Returns\n",
      " |      -------\n",
      " |      self : object\n",
      " |          Returns a fitted instance of self.\n",
      " |  \n",
      " |  fit_predict(self, X, y=None, sample_weight=None)\n",
      " |      Compute clusters from a data or distance matrix and predict labels.\n",
      " |      \n",
      " |      Parameters\n",
      " |      ----------\n",
      " |      X : {array-like, sparse matrix} of shape (n_samples, n_features), or             (n_samples, n_samples)\n",
      " |          Training instances to cluster, or distances between instances if\n",
      " |          ``metric='precomputed'``. If a sparse matrix is provided, it will\n",
      " |          be converted into a sparse ``csr_matrix``.\n",
      " |      \n",
      " |      y : Ignored\n",
      " |          Not used, present here for API consistency by convention.\n",
      " |      \n",
      " |      sample_weight : array-like of shape (n_samples,), default=None\n",
      " |          Weight of each sample, such that a sample with a weight of at least\n",
      " |          ``min_samples`` is by itself a core sample; a sample with a\n",
      " |          negative weight may inhibit its eps-neighbor from being core.\n",
      " |          Note that weights are absolute, and default to 1.\n",
      " |      \n",
      " |      Returns\n",
      " |      -------\n",
      " |      labels : ndarray of shape (n_samples,)\n",
      " |          Cluster labels. Noisy samples are given the label -1.\n",
      " |  \n",
      " |  ----------------------------------------------------------------------\n",
      " |  Data and other attributes defined here:\n",
      " |  \n",
      " |  __annotations__ = {'_parameter_constraints': <class 'dict'>}\n",
      " |  \n",
      " |  ----------------------------------------------------------------------\n",
      " |  Data descriptors inherited from sklearn.base.ClusterMixin:\n",
      " |  \n",
      " |  __dict__\n",
      " |      dictionary for instance variables (if defined)\n",
      " |  \n",
      " |  __weakref__\n",
      " |      list of weak references to the object (if defined)\n",
      " |  \n",
      " |  ----------------------------------------------------------------------\n",
      " |  Methods inherited from sklearn.base.BaseEstimator:\n",
      " |  \n",
      " |  __getstate__(self)\n",
      " |  \n",
      " |  __repr__(self, N_CHAR_MAX=700)\n",
      " |      Return repr(self).\n",
      " |  \n",
      " |  __setstate__(self, state)\n",
      " |  \n",
      " |  get_params(self, deep=True)\n",
      " |      Get parameters for this estimator.\n",
      " |      \n",
      " |      Parameters\n",
      " |      ----------\n",
      " |      deep : bool, default=True\n",
      " |          If True, will return the parameters for this estimator and\n",
      " |          contained subobjects that are estimators.\n",
      " |      \n",
      " |      Returns\n",
      " |      -------\n",
      " |      params : dict\n",
      " |          Parameter names mapped to their values.\n",
      " |  \n",
      " |  set_params(self, **params)\n",
      " |      Set the parameters of this estimator.\n",
      " |      \n",
      " |      The method works on simple estimators as well as on nested objects\n",
      " |      (such as :class:`~sklearn.pipeline.Pipeline`). The latter have\n",
      " |      parameters of the form ``<component>__<parameter>`` so that it's\n",
      " |      possible to update each component of a nested object.\n",
      " |      \n",
      " |      Parameters\n",
      " |      ----------\n",
      " |      **params : dict\n",
      " |          Estimator parameters.\n",
      " |      \n",
      " |      Returns\n",
      " |      -------\n",
      " |      self : estimator instance\n",
      " |          Estimator instance.\n",
      "\n"
     ]
    }
   ],
   "source": [
    "help(DBSCAN)"
   ]
  },
  {
   "cell_type": "code",
   "execution_count": 10,
   "metadata": {},
   "outputs": [],
   "source": [
    "dbscan = DBSCAN()"
   ]
  },
  {
   "cell_type": "code",
   "execution_count": 11,
   "metadata": {},
   "outputs": [],
   "source": [
    "display_categories(dbscan,two_blobs)"
   ]
  },
  {
   "cell_type": "code",
   "execution_count": 12,
   "metadata": {},
   "outputs": [],
   "source": [
    "display_categories(dbscan,two_blobs_outliers)"
   ]
  },
  {
   "cell_type": "markdown",
   "metadata": {},
   "source": [
    "# Epsilon\n",
    "\n",
    "    eps : float, default=0.5\n",
    "     |      The maximum distance between two samples for one to be considered\n",
    "     |      as in the neighborhood of the other. This is not a maximum bound\n",
    "     |      on the distances of points within a cluster. This is the most\n",
    "     |      important DBSCAN parameter to choose appropriately for your data set\n",
    "     |      and distance function."
   ]
  },
  {
   "cell_type": "markdown",
   "metadata": {},
   "source": [
    "**Epsilon**: Piccola epsilon = piccolo raggio per i punti => tutto diventa outlier"
   ]
  },
  {
   "cell_type": "code",
   "execution_count": 13,
   "metadata": {},
   "outputs": [],
   "source": [
    "display_categories(dbscan,two_blobs_outliers)"
   ]
  },
  {
   "cell_type": "markdown",
   "metadata": {},
   "source": [
    "Grande epsilon = grande raggio => tutto nello stesso cluster"
   ]
  },
  {
   "cell_type": "code",
   "execution_count": 82,
   "metadata": {},
   "outputs": [
    {
     "data": {
      "image/png": "[encoded data removed]",
      "text/plain": [
       "<Figure size 432x288 with 1 Axes>"
      ]
     },
     "metadata": {
      "needs_background": "light"
     },
     "output_type": "display_data"
    }
   ],
   "source": [
    "# dbscan =\n",
    "# display_categories(dbscan,two_blobs_outliers)"
   ]
  },
  {
   "cell_type": "markdown",
   "metadata": {},
   "source": [
    "### Quale valore scegliere di **Epsilon**?"
   ]
  },
  {
   "cell_type": "code",
   "execution_count": 14,
   "metadata": {},
   "outputs": [
    {
     "data": {
      "text/plain": [
       "<Figure size 2000x1200 with 0 Axes>"
      ]
     },
     "metadata": {},
     "output_type": "display_data"
    }
   ],
   "source": [
    "\n",
    "plt.figure(figsize=(10,6),dpi=200)\n",
    "dbscan = DBSCAN(eps=1)\n",
    "display_categories(dbscan,two_blobs_outliers)"
   ]
  },
  {
   "cell_type": "markdown",
   "metadata": {},
   "source": [
    "### Numero di punti esterni (**outliers**)\n",
    "\n",
    "Quanti punti esterni ai cluster abbiamo trovato? \n",
    "\n",
    "Il risultato è in linea con le aspettative?\n",
    "\n",
    "Per capire se il modello ha lavorato bene, partiamo col calcolare quanti outliers sono stati trovati in relazione al numero di punti che abbiamo."
   ]
  },
  {
   "cell_type": "code",
   "execution_count": 16,
   "metadata": {},
   "outputs": [],
   "source": []
  },
  {
   "cell_type": "markdown",
   "metadata": {},
   "source": [
    "## Valori di epsilon in funzione degli outliers\n",
    "\n",
    "un altro approccio poteva essere quello di considerare il numero di cluster generati con l'attributo `labels_`"
   ]
  },
  {
   "cell_type": "code",
   "execution_count": 189,
   "metadata": {},
   "outputs": [],
   "source": [
    "outlier_percent = []\n",
    "number_of_outliers = []\n",
    "\n",
    "# ciclo per generare modelli con valori diversi di epsilon"
   ]
  },
  {
   "cell_type": "code",
   "execution_count": 22,
   "metadata": {},
   "outputs": [
    {
     "ename": "NameError",
     "evalue": "name 'outlier_percent' is not defined",
     "output_type": "error",
     "traceback": [
      "\u001b[0;31m---------------------------------------------------------------------------\u001b[0m",
      "\u001b[0;31mNameError\u001b[0m                                 Traceback (most recent call last)",
      "Cell \u001b[0;32mIn [22], line 1\u001b[0m\n\u001b[0;32m----> 1\u001b[0m sns\u001b[38;5;241m.\u001b[39mlineplot(x\u001b[38;5;241m=\u001b[39mnp\u001b[38;5;241m.\u001b[39mlinspace(\u001b[38;5;241m0.001\u001b[39m,\u001b[38;5;241m10\u001b[39m,\u001b[38;5;241m100\u001b[39m),y\u001b[38;5;241m=\u001b[39m\u001b[43moutlier_percent\u001b[49m)\n\u001b[1;32m      2\u001b[0m plt\u001b[38;5;241m.\u001b[39mylabel(\u001b[38;5;124m\"\u001b[39m\u001b[38;5;124mPercentuale di Punti Outliers Sul Totale\u001b[39m\u001b[38;5;124m\"\u001b[39m)\n\u001b[1;32m      3\u001b[0m plt\u001b[38;5;241m.\u001b[39mxlabel(\u001b[38;5;124m\"\u001b[39m\u001b[38;5;124mEpsilon\u001b[39m\u001b[38;5;124m\"\u001b[39m)\n",
      "\u001b[0;31mNameError\u001b[0m: name 'outlier_percent' is not defined"
     ]
    }
   ],
   "source": [
    "sns.lineplot(x=np.linspace(0.001,10,100),y=outlier_percent)\n",
    "plt.ylabel(\"Percentuale di Punti Outliers Sul Totale\")\n",
    "plt.xlabel(\"Epsilon\")"
   ]
  },
  {
   "cell_type": "code",
   "execution_count": 18,
   "metadata": {},
   "outputs": [
    {
     "data": {
      "text/plain": [
       "(0.0, 1.0)"
      ]
     },
     "execution_count": 18,
     "metadata": {},
     "output_type": "execute_result"
    },
    {
     "data": {
      "image/png": "[encoded data removed]",
      "text/plain": [
       "<Figure size 640x480 with 1 Axes>"
      ]
     },
     "metadata": {},
     "output_type": "display_data"
    }
   ],
   "source": [
    "sns.lineplot(x=np.linspace(0.001,10,100),y=number_of_outliers)\n",
    "plt.ylabel(\"Numero di Outliers\")\n",
    "plt.xlabel(\"Epsilon\")\n",
    "plt.xlim(0,1)"
   ]
  },
  {
   "cell_type": "markdown",
   "metadata": {},
   "source": [
    "### Ragioniamo in termini di percentuale\n"
   ]
  },
  {
   "cell_type": "code",
   "execution_count": 23,
   "metadata": {},
   "outputs": [],
   "source": [
    "sns.lineplot(x=np.linspace(0.001,10,100),y=outlier_percent)\n",
    "plt.ylabel(\"Percentuale di Punti Outliers Sul Totale\")\n",
    "plt.xlabel(\"Epsilon\")\n",
    "plt.ylim(0,5)\n",
    "plt.xlim(0,2)\n",
    "plt.hlines(y=1,xmin=0,xmax=2,colors='red',ls='--')"
   ]
  },
  {
   "cell_type": "code",
   "execution_count": 194,
   "metadata": {},
   "outputs": [
    {
     "data": {
      "image/png": "[encoded data removed]",
      "text/plain": [
       "<Figure size 432x288 with 1 Axes>"
      ]
     },
     "metadata": {
      "needs_background": "light"
     },
     "output_type": "display_data"
    }
   ],
   "source": [
    "dbscan = DBSCAN(eps=0.4)\n",
    "display_categories(dbscan,two_blobs_outliers)"
   ]
  },
  {
   "cell_type": "markdown",
   "metadata": {},
   "source": [
    "### Oppure in termini di numero di outliers\n",
    "\n",
    "Ad esempio fissiamo il limite a 3 punti"
   ]
  },
  {
   "cell_type": "code",
   "execution_count": 24,
   "metadata": {},
   "outputs": [],
   "source": [
    "sns.lineplot(x=np.linspace(0.001,10,100),y=number_of_outliers)\n",
    "plt.ylabel(\"Numero di outliers\")\n",
    "plt.xlabel(\"Epsilon Value\")\n",
    "plt.ylim(0,10)\n",
    "plt.xlim(0,6)\n",
    "plt.hlines(y=3,xmin=0,xmax=10,colors='red',ls='--')"
   ]
  },
  {
   "cell_type": "markdown",
   "metadata": {},
   "source": [
    "## Scelta di Epsilon\n",
    "\n",
    "Possiamo ora scegliere con congnizione di causa il valore di **epsilon**"
   ]
  },
  {
   "cell_type": "code",
   "execution_count": 25,
   "metadata": {},
   "outputs": [],
   "source": [
    "# dbscan = \n",
    "# display_categories(dbscan,two_blobs_outliers)"
   ]
  },
  {
   "cell_type": "markdown",
   "metadata": {},
   "source": [
    "## Numero di punti \n",
    "\n",
    "     |  min_samples : int, default=5\n",
    "     |      The number of samples (or total weight) in a neighborhood for a point\n",
    "     |      to be considered as a core point. This includes the point itself.\n",
    "\n",
    "Possiamo ragionare in maniera simile\n"
   ]
  },
  {
   "cell_type": "code",
   "execution_count": 218,
   "metadata": {},
   "outputs": [],
   "source": [
    "outlier_percent = []\n",
    "\n",
    "# ciclo per i valori di n\n",
    "# ricordiamo che n è intero\n",
    "    "
   ]
  },
  {
   "cell_type": "code",
   "execution_count": 26,
   "metadata": {},
   "outputs": [],
   "source": [
    "sns.lineplot(x=np.arange(1,100),y=outlier_percent)\n"
   ]
  },
  {
   "cell_type": "markdown",
   "metadata": {},
   "source": [
    "### Prima approsimazione\n",
    "\n",
    "Un buon valore per partire con il numero di valori è il doppio del numero di dimensioni del dataset"
   ]
  },
  {
   "cell_type": "code",
   "execution_count": 27,
   "metadata": {},
   "outputs": [],
   "source": [
    "num_dim = two_blobs_outliers.shape[1]\n",
    "\n",
    "dbscan = DBSCAN(min_samples=2*num_dim)\n",
    "display_categories(dbscan,two_blobs_outliers)"
   ]
  },
  {
   "cell_type": "code",
   "execution_count": 28,
   "metadata": {},
   "outputs": [],
   "source": [
    "num_dim = two_blobs_outliers.shape[1]\n",
    "\n",
    "dbscan = DBSCAN(eps=0.75,min_samples=2*num_dim)\n",
    "display_categories(dbscan,two_blobs_outliers)"
   ]
  },
  {
   "cell_type": "code",
   "execution_count": 29,
   "metadata": {},
   "outputs": [],
   "source": [
    "dbscan = DBSCAN(min_samples=1)\n",
    "display_categories(dbscan,two_blobs_outliers)"
   ]
  },
  {
   "cell_type": "code",
   "execution_count": 232,
   "metadata": {},
   "outputs": [
    {
     "data": {
      "image/png": "[encoded data removed]",
      "text/plain": [
       "<Figure size 432x288 with 1 Axes>"
      ]
     },
     "metadata": {
      "needs_background": "light"
     },
     "output_type": "display_data"
    }
   ],
   "source": [
    "dbscan = DBSCAN(eps=0.75,min_samples=1)\n",
    "display_categories(dbscan,two_blobs_outliers)"
   ]
  },
  {
   "cell_type": "markdown",
   "metadata": {},
   "source": [
    "----"
   ]
  }
 ],
 "metadata": {
  "anaconda-cloud": {},
  "kernelspec": {
   "display_name": "Python 3",
   "language": "python",
   "name": "python3"
  },
  "language_info": {
   "codemirror_mode": {
    "name": "ipython",
    "version": 3
   },
   "file_extension": ".py",
   "mimetype": "text/x-python",
   "name": "python",
   "nbconvert_exporter": "python",
   "pygments_lexer": "ipython3",
   "version": "3.10.12"
  }
 },
 "nbformat": 4,
 "nbformat_minor": 1
}

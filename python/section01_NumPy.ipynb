{
 "cells": [
  {
   "cell_type": "markdown",
   "id": "d0d4a2ef",
   "metadata": {},
   "source": [
    "### Package Imports"
   ]
  },
  {
   "cell_type": "code",
   "execution_count": 1,
   "id": "dbd96293",
   "metadata": {},
   "outputs": [],
   "source": [
    "import numpy as np"
   ]
  },
  {
   "cell_type": "markdown",
   "id": "3a5e9bd3",
   "metadata": {},
   "source": [
    "# Array Basics\n",
    "\n",
    "## List != Array\n",
    "\n",
    "Le liste sono oggetti in python che possono contenere qualsiasi tipo di dato, mentre un array è sempre un oggetto che rappresenta una sequenza di elementi omogenei per tipo e di dimensioni predefinite."
   ]
  },
  {
   "cell_type": "code",
   "execution_count": 2,
   "id": "6d3f8d99",
   "metadata": {},
   "outputs": [
    {
     "data": {
      "text/plain": [
       "[10, 20, 30, 40, 50, 60, 70, 80, 90, 100]"
      ]
     },
     "execution_count": 2,
     "metadata": {},
     "output_type": "execute_result"
    }
   ],
   "source": [
    "my_list1 = [x * 10 for x in range(1, 11)]\n",
    "\n",
    "my_list1"
   ]
  },
  {
   "cell_type": "markdown",
   "id": "8700d03c",
   "metadata": {},
   "source": [
    "## Dalla lista creo l'array\n",
    "Sintassi:\n",
    "\n",
    "    my_list = [\"a\", \"e\", \"i\", \"o\", \"u\"]\n",
    "    my_array = np.array(my_list)\n",
    "\n",
    "## **TO DO**:\n",
    "\n",
    "crea una lista che contiene i numeri della tabellina del 3 e poi trasformala in un array.\n",
    "\n",
    "*N.B.*: Usa la list comprehensions per creare la lista di python, è una sintassi più compatta e piace di più anche all'interprete!\n",
    "\n",
    "    lista_nuova = [ `operazione da fare per ogni elemento` for `elemento del ciclo` in range(`start`, `stop`, `step`)]"
   ]
  },
  {
   "cell_type": "code",
   "execution_count": 3,
   "id": "22aa8a50",
   "metadata": {},
   "outputs": [
    {
     "data": {
      "text/plain": [
       "array([ 0,  3,  6,  9, 12, 15, 18, 21, 24, 27, 30], dtype=uint16)"
      ]
     },
     "execution_count": 3,
     "metadata": {},
     "output_type": "execute_result"
    }
   ],
   "source": [
    "# crea la lista \n",
    "tab_tre = [x for x in range(0, 31, 3)]\n",
    "\n",
    "#trasforma in array\n",
    "array_tre = np.array(tab_tre, 'H')\n",
    "array_tre"
   ]
  },
  {
   "cell_type": "code",
   "execution_count": 4,
   "id": "d2f4922c",
   "metadata": {},
   "outputs": [
    {
     "data": {
      "text/plain": [
       "[0, 6, 12, 18, 24, 30]"
      ]
     },
     "execution_count": 4,
     "metadata": {},
     "output_type": "execute_result"
    }
   ],
   "source": [
    "[x for x in range(0, 31, 3) if x%2 ==0]"
   ]
  },
  {
   "cell_type": "markdown",
   "id": "8d1ce34c",
   "metadata": {},
   "source": [
    "### Cosa Cambia\n",
    "\n",
    "Differenza fondamentale tra Liste e Array di numpy è il tipo di dato che li popola.\n",
    "- la lista contiene qualsiasi tipo di dato senza controllare che ci sia omogeneità tra i vari elementi\n",
    "- l'array contiene un solo tipo di dato\n"
   ]
  },
  {
   "cell_type": "code",
   "execution_count": 5,
   "id": "ad4c16cb",
   "metadata": {},
   "outputs": [],
   "source": [
    "lista_valida = [2, \"hello\", \"world\", 42]\n",
    "\n",
    "# np.array(lista_valida)"
   ]
  },
  {
   "cell_type": "markdown",
   "id": "68e700ce",
   "metadata": {},
   "source": [
    "## Un Limite o Una Feature? \n",
    "\n",
    "Il fatto che l'array si compoti in questo modo può sembrare un problema ma il fatto è che python cerca sempre di rendere la vita facile al programmatore e questo penalizza le prestazioni e rende difficile (alla macchina) l'esecuzione di particolari tipi di operazioni.\n",
    "\n",
    "Dobbiamo pensare l'array come una sequenza di elementi tutti uguali messi in fila uno dopo l'altro, mentre la lista è un accozzaglia di elementi sparsi in giro di cui ne possiamo avere alcuni molto grandi altri molto piccoli e possiamo trovarli solo perchè ogni elemento ci dice dove sta il successivo, diventa quasi una caccia al tesoro!"
   ]
  },
  {
   "cell_type": "markdown",
   "id": "661c280b",
   "metadata": {},
   "source": [
    "<img src=\"arrayVSlists.jpg\">"
   ]
  },
  {
   "cell_type": "code",
   "execution_count": 6,
   "id": "79acf2ea",
   "metadata": {},
   "outputs": [
    {
     "data": {
      "text/plain": [
       "array(['a', 'e', 'i', 'o', 'u'], dtype='<U1')"
      ]
     },
     "execution_count": 6,
     "metadata": {},
     "output_type": "execute_result"
    }
   ],
   "source": [
    "np.array([\"a\", \"e\", \"i\", \"o\", \"u\"])"
   ]
  },
  {
   "cell_type": "markdown",
   "id": "58bcaea2",
   "metadata": {},
   "source": [
    "## Operazioni \n",
    "\n",
    "Altra grande differenza, gli array li posso considerare come un blocco di numeri e utilizzarli per operazioni matematiche\n",
    "\n",
    "## **TO DO**:\n",
    "Moltiplichiamo tutti i valori della **lista ** tabellina del 3 per il numero 4, *per farlo su una lista servirà un ciclo* "
   ]
  },
  {
   "cell_type": "code",
   "execution_count": 15,
   "id": "97c51439",
   "metadata": {},
   "outputs": [
    {
     "data": {
      "text/plain": [
       "168"
      ]
     },
     "execution_count": 15,
     "metadata": {},
     "output_type": "execute_result"
    }
   ],
   "source": [
    "tab_tre_per_quattro = []\n"
   ]
  },
  {
   "cell_type": "markdown",
   "id": "b66f9a19",
   "metadata": {},
   "source": [
    "Ora proviamo con l'array:\n"
   ]
  },
  {
   "cell_type": "code",
   "execution_count": 14,
   "id": "e07d3459",
   "metadata": {},
   "outputs": [
    {
     "data": {
      "text/plain": [
       "134"
      ]
     },
     "execution_count": 14,
     "metadata": {},
     "output_type": "execute_result"
    }
   ],
   "source": [
    "# arr_tre_per_quattro = ..."
   ]
  },
  {
   "cell_type": "markdown",
   "id": "997be626",
   "metadata": {},
   "source": [
    "## Numeri si ma che tipo?\n",
    "\n",
    "I tipi di dato sono principalmente tipi pensati per gestire e manipolare numeri più o meno grandi\n",
    "La Documentazione di NumPy ci può aiutare a capire meglio quali sono i tipi di dato e come utilizzarli:\n",
    " - [Data Types](https://numpy.org/doc/stable/user/basics.types.html)\n",
    "\n",
    "il fatto di avere tutti dati dello stesso tipo permette di poter gestire meglio la memoria e porta a notevoli vantaggi prestazionali sopratutto per grandi moli di dati\n"
   ]
  },
  {
   "cell_type": "code",
   "execution_count": 9,
   "id": "ee4910f0",
   "metadata": {},
   "outputs": [
    {
     "data": {
      "text/plain": [
       "array([ 10,  20,  30,  40,  50,  60,  70,  80,  90, 100])"
      ]
     },
     "execution_count": 9,
     "metadata": {},
     "output_type": "execute_result"
    }
   ],
   "source": [
    "my_array1 = np.array(my_list1)\n",
    "my_array1"
   ]
  },
  {
   "cell_type": "code",
   "execution_count": 27,
   "id": "2b1a7bd2",
   "metadata": {},
   "outputs": [],
   "source": [
    "my_list2 = [\"helloW\", \"world\", \"a\", \"b\"]\n"
   ]
  },
  {
   "cell_type": "code",
   "execution_count": 29,
   "id": "317eafb6",
   "metadata": {},
   "outputs": [
    {
     "data": {
      "text/plain": [
       "array(['helloW', 'world', 'a', 'b'], dtype='<U6')"
      ]
     },
     "execution_count": 29,
     "metadata": {},
     "output_type": "execute_result"
    }
   ],
   "source": [
    "my_array2 = np.array(my_list2)\n",
    "my_array2"
   ]
  },
  {
   "cell_type": "markdown",
   "id": "49267821",
   "metadata": {},
   "source": [
    "## [Broadcasting](https://numpy.org/doc/stable/user/basics.broadcasting.html)\n",
    "\n",
    "L'operazione fatta prima per moltiplicare un array per un numero intero, può essere generalizzata. Possiamo, infatti, vedere il numero intero come un array monodimensionale.\n",
    "\n",
    "Questo ci porta a concludere che per fare operazioni sugli array non devono per forza avere la stessa dimensione e forma."
   ]
  },
  {
   "cell_type": "code",
   "execution_count": 32,
   "id": "7fe796be",
   "metadata": {},
   "outputs": [
    {
     "data": {
      "text/plain": [
       "(2, 4)"
      ]
     },
     "execution_count": 32,
     "metadata": {},
     "output_type": "execute_result"
    }
   ],
   "source": [
    "a = np.array([[0.0, 10.0, 20.0, 30.0], [40.0, 50.0, 60.0, 70.0]])\n",
    "b = np.array([1.,2.,3.])\n",
    "# a + b \n",
    "a.shape"
   ]
  },
  {
   "cell_type": "markdown",
   "id": "1c11d9b9",
   "metadata": {},
   "source": [
    "devono però rispettare alcuni vincoli sulla forma ovvero la **shape**"
   ]
  },
  {
   "cell_type": "markdown",
   "id": "d4eceb7c",
   "metadata": {},
   "source": [
    "## shape\n",
    "\n",
    "L'attributo shape viene utilizzato per restituire le dimensioni di un array. L'attributo shape restituisce una tupla che rappresenta il numero di elementi presenti lungo ciascuna dimensione dell'array.\n",
    "Quindi il primo numero rappresenta le righe, il secondo le colonne.\n",
    "\n",
    "Per poter fare operazioni tra 2 array è necessario che il numero di colonne del primo sia uguale al numero di righe del secondo oppure che abbiano la stessa shape\n"
   ]
  },
  {
   "cell_type": "code",
   "execution_count": 35,
   "id": "d2e2fae3",
   "metadata": {},
   "outputs": [
    {
     "data": {
      "text/plain": [
       "(1, 4)"
      ]
     },
     "execution_count": 35,
     "metadata": {},
     "output_type": "execute_result"
    }
   ],
   "source": [
    "c = np.array([0., 0.])\n",
    "c.shape\n",
    "b.shape\n",
    "# a + c \n",
    "d = np.array([3.,4.,5.,6.])\n",
    "d.shape\n"
   ]
  },
  {
   "cell_type": "markdown",
   "id": "8bbb3ee2",
   "metadata": {},
   "source": [
    "## La forma può cambiare \n",
    "\n",
    "Il metodo reshape() in NumPy viene utilizzato per cambiare la forma di un array senza modificare i suoi dati. Consente di ridimensionare l'array in modo da adattarsi a una nuova forma specificata, purché il numero totale di elementi rimanga invariato.\n",
    "\n",
    "\n",
    "Trasformare l'array: `[ 0  1  2  3  4  5  6  7  8  9 10 11]` in un array con 3 righe e 4 colonne\n"
   ]
  },
  {
   "cell_type": "code",
   "execution_count": 6,
   "id": "bdd540c9",
   "metadata": {},
   "outputs": [
    {
     "data": {
      "text/plain": [
       "array([[ 0,  1,  2,  3],\n",
       "       [ 4,  5,  6,  7],\n",
       "       [ 8,  9, 10, 11]])"
      ]
     },
     "execution_count": 6,
     "metadata": {},
     "output_type": "execute_result"
    }
   ],
   "source": [
    "# la shape finale deve essere (3,4)\n",
    "mio_array = np.array([ 0 , 1,  2,  3,  4,  5,  6,  7,  8,  9, 10, 11])\n",
    "mio_array.reshape(3,4)"
   ]
  },
  {
   "cell_type": "markdown",
   "id": "05778804",
   "metadata": {},
   "source": [
    "# Trasposizione\n",
    "\n",
    "A volte è necessario rovesciare gli array facendo diventare riga ciò che era colonna.\n",
    "\n",
    "Questa operazione è la trasposizione. "
   ]
  },
  {
   "cell_type": "code",
   "execution_count": 44,
   "id": "acd65c1c",
   "metadata": {},
   "outputs": [
    {
     "data": {
      "text/plain": [
       "array([[ 0,  4,  8],\n",
       "       [ 1,  5,  9],\n",
       "       [ 2,  6, 10],\n",
       "       [ 3,  7, 11]])"
      ]
     },
     "execution_count": 44,
     "metadata": {},
     "output_type": "execute_result"
    }
   ],
   "source": [
    "# proviamo la trasposizione sull'array appena riformato\n"
   ]
  },
  {
   "cell_type": "markdown",
   "id": "352a18af",
   "metadata": {},
   "source": [
    "Quindi nella trasposizione cambia la shape e anche l'ordine dei dati!"
   ]
  },
  {
   "cell_type": "markdown",
   "id": "656bd0f2",
   "metadata": {},
   "source": [
    "### "
   ]
  },
  {
   "cell_type": "code",
   "execution_count": 49,
   "id": "ac0d2c7b",
   "metadata": {},
   "outputs": [
    {
     "data": {
      "text/plain": [
       "3"
      ]
     },
     "execution_count": 49,
     "metadata": {},
     "output_type": "execute_result"
    }
   ],
   "source": [
    "\n",
    "\n",
    "# Creiamo alcuni array con diverse dimensioni\n",
    "array1D = np.array([1, 2, 3, 4, 5])  # Array unidimensionale\n",
    "array2D = np.array([[1, 2, 3], [4, 5, 6]])  # Array bidimensionale\n",
    "array3D = np.array([[\n",
    "\n",
    "    [\n",
    "        [1, 2], \n",
    "        [3, 4]\n",
    "    ], \n",
    "    [\n",
    "        [5, 6], \n",
    "        [7, 8]\n",
    "    ], \n",
    "    [\n",
    "        [9, 10],\n",
    "        [11, 12]\n",
    "    ]]])  # Array tridimensionale\n",
    "array4D = np.array([[[[1, 2], [3, 4]], [[5, 6], [7, 8]]], [[[9, 10], [11, 12]], [[13, 14], [15, 16]]]])\n",
    "array3D.ndim"
   ]
  },
  {
   "cell_type": "code",
   "execution_count": 25,
   "id": "6c5d9bd1",
   "metadata": {},
   "outputs": [
    {
     "data": {
      "text/plain": [
       "dtype('int64')"
      ]
     },
     "execution_count": 25,
     "metadata": {},
     "output_type": "execute_result"
    }
   ],
   "source": [
    "my_array1.dtype"
   ]
  },
  {
   "cell_type": "code",
   "execution_count": 30,
   "id": "6b77ec4e",
   "metadata": {},
   "outputs": [
    {
     "data": {
      "text/plain": [
       "dtype('<U6')"
      ]
     },
     "execution_count": 30,
     "metadata": {},
     "output_type": "execute_result"
    }
   ],
   "source": [
    "my_array2.dtype"
   ]
  },
  {
   "cell_type": "markdown",
   "id": "8ff92bb7",
   "metadata": {},
   "source": [
    "## Creazione Array\n",
    "Per il momento abbiamo creato noi gli array, con numpy ci sono dei metodi per creare array in modo più diretto.\n",
    "\n",
    "### arange()\n",
    "Per creare un array in NumPy utilizzando la funzione arange(), puoi specificare un intervallo di valori e un passo (incremento) tra i valori. La sintassi di base è la seguente:\n",
    "\n",
    "Creazione di un array con arange:\n",
    "\n",
    "`array = np.arange(start, stop, step)`\n",
    "\n",
    "Dove:\n",
    "\n",
    "- start: il valore di partenza dell'intervallo (incluso).\n",
    "- stop: il valore finale dell'intervallo (escluso).\n",
    "- step: il passo tra i valori.\n",
    "\n",
    "Se non si specifica start, il valore predefinito è 0. Se non si specifica step, il valore predefinito è 1.\n",
    "\n"
   ]
  },
  {
   "cell_type": "code",
   "execution_count": null,
   "id": "81839e0f",
   "metadata": {},
   "outputs": [],
   "source": [
    "# Crea un array di valori da 0 a 9\n",
    "\n",
    "# Crea un array di valori da 5 a 14\n",
    "\n",
    "# Crea un array di valori pari da 0 a 10\n",
    "\n",
    "# Crea un array di valori da 10 a 1 (in ordine decrescente)\n"
   ]
  },
  {
   "cell_type": "code",
   "execution_count": 50,
   "id": "31587a6e",
   "metadata": {},
   "outputs": [
    {
     "data": {
      "text/plain": [
       "array([[ 10,  20],\n",
       "       [ 30,  40],\n",
       "       [ 50,  60],\n",
       "       [ 70,  80],\n",
       "       [ 90, 100]])"
      ]
     },
     "execution_count": 50,
     "metadata": {},
     "output_type": "execute_result"
    }
   ],
   "source": [
    "# Crea un array dei multipli di 10 tra le prime 9 cifre (escluso lo zero) e disponi l'array su 5 righe e 2 colonne\n",
    "my_array = (np.arange(1, 11) * 10).reshape(5, 2)\n",
    "my_array"
   ]
  },
  {
   "cell_type": "markdown",
   "id": "9548d50a",
   "metadata": {},
   "source": [
    "### Valori in un intervallo\n",
    "\n",
    "`linspace()` viene utilizzata per creare un array di valori equidistanti all'interno di un intervallo specificato. La sintassi di base di linspace() è la seguente:\n",
    "\n",
    "`array = np.linspace(start, stop, num)`\n",
    "\n",
    "Dove:\n",
    "\n",
    "- start: il valore di partenza dell'intervallo.\n",
    "- stop: il valore finale dell'intervallo.\n",
    "- num: il numero di campioni da generare tra start e stop. Questo valore indica quanti elementi avrà l'array.\n",
    "\n",
    "La differenza principale tra arange() e linspace() è che arange() utilizza un passo specifico tra i valori, mentre linspace() determina automaticamente il passo in base al numero di campioni richiesti.\n",
    "\n"
   ]
  },
  {
   "cell_type": "code",
   "execution_count": null,
   "id": "2d5bd05f",
   "metadata": {},
   "outputs": [],
   "source": [
    "# crea array di 5 valori equidistanti da 0 a 10\n",
    "\n",
    "# crea un array di 10 valori equidistanti da 0 a 1\n",
    "\n",
    "# crea un array di 20 valori equidistanti da -1 a 1\n",
    "\n"
   ]
  },
  {
   "cell_type": "code",
   "execution_count": 53,
   "id": "1d15630f",
   "metadata": {},
   "outputs": [
    {
     "ename": "TypeError",
     "evalue": "sin() takes from 1 to 2 positional arguments but 0 were given",
     "output_type": "error",
     "traceback": [
      "\u001b[0;31m---------------------------------------------------------------------------\u001b[0m",
      "\u001b[0;31mTypeError\u001b[0m                                 Traceback (most recent call last)",
      "Cell \u001b[0;32mIn [53], line 9\u001b[0m\n\u001b[1;32m      6\u001b[0m x \u001b[38;5;241m=\u001b[39m np \u001b[38;5;66;03m# 100 valori equidistanti da 0 a 10\u001b[39;00m\n\u001b[1;32m      8\u001b[0m \u001b[38;5;66;03m# Calcoliamo i corrispondenti valori y\u001b[39;00m\n\u001b[0;32m----> 9\u001b[0m y \u001b[38;5;241m=\u001b[39m \u001b[43mnp\u001b[49m\u001b[38;5;241;43m.\u001b[39;49m\u001b[43msin\u001b[49m\u001b[43m(\u001b[49m\u001b[43mx\u001b[49m\u001b[43m)\u001b[49m\n\u001b[1;32m     11\u001b[0m \u001b[38;5;66;03m# Tracciamo il grafico\u001b[39;00m\n\u001b[1;32m     12\u001b[0m plt\u001b[38;5;241m.\u001b[39mplot(x, y)\n",
      "\u001b[0;31mTypeError\u001b[0m: sin() takes from 1 to 2 positional arguments but 0 were given"
     ]
    }
   ],
   "source": [
    "import matplotlib.pyplot as plt\n",
    "# linspace viene spesso usato in matplotlib per creare gli assi dei grafici. \n",
    "# facciamo un plot della fz sin(x)\n",
    "\n",
    "# Genera valori x equidistanti utilizzando linspace\n",
    "x = np # 100 valori equidistanti da 0 a 10\n",
    "\n",
    "# Calcoliamo i corrispondenti valori y\n",
    "y = np.sin(x)\n",
    "\n",
    "# Tracciamo il grafico\n",
    "plt.plot(x, y)\n",
    "plt.title('Funzione Seno')\n",
    "plt.xlabel('x')\n",
    "plt.ylabel('sin(x)')\n",
    "plt.grid(True)\n",
    "plt.show()\n",
    "#"
   ]
  },
  {
   "cell_type": "markdown",
   "id": "e0849aa4",
   "metadata": {},
   "source": [
    "### Numeri Casuali\n",
    "\n",
    "La funzione numpy.random.rand() serve per generare valori casuali distribuiti uniformemente tra 0 e 1. \n",
    "\n",
    "Puoi specificare le dimensioni dell'array che desideri generare passando gli argomenti alla funzione. Ecco un esempio:"
   ]
  },
  {
   "cell_type": "code",
   "execution_count": 56,
   "id": "2abeb293",
   "metadata": {},
   "outputs": [
    {
     "name": "stdout",
     "output_type": "stream",
     "text": [
      "Array di numeri casuali:\n",
      "[0.61173302 0.53735177 0.365448   0.16687376 0.84024733]\n"
     ]
    }
   ],
   "source": [
    "# Creazione di un array di numeri casuali con una dimensione specifica\n",
    "array_casuali = np.random.rand(5)  # Array di 5 numeri casuali\n",
    "print(\"Array di numeri casuali:\")\n",
    "print(array_casuali)"
   ]
  },
  {
   "cell_type": "markdown",
   "id": "fd09787b",
   "metadata": {},
   "source": [
    "Per generare numeri casuali interi puoi utilizzare la funzione `numpy.random.randint()`. Questa funzione genera numeri interi casuali in un intervallo specificato.\n",
    "\n",
    "Esempio:"
   ]
  },
  {
   "cell_type": "code",
   "execution_count": 57,
   "id": "30e50ef1",
   "metadata": {},
   "outputs": [
    {
     "name": "stdout",
     "output_type": "stream",
     "text": [
      "Array di numeri casuali da 1 a 10:\n",
      "[ 5  6 10  6  4]\n"
     ]
    }
   ],
   "source": [
    "array_casuali = np.random.randint(1, 11, size=5)  # Genera 5 numeri casuali nell'intervallo da 1 a 10\n",
    "print(\"Array di numeri casuali da 1 a 10:\")\n",
    "print(array_casuali)"
   ]
  },
  {
   "cell_type": "code",
   "execution_count": 61,
   "id": "ed3ff987",
   "metadata": {},
   "outputs": [],
   "source": [
    "# genera array casuale di interi tra 1 a 100 per 1000 valori, quindi trasformarla in matrice a 3 dimensioni\n",
    "rand_3d = ''"
   ]
  },
  {
   "cell_type": "markdown",
   "id": "6927e8b0",
   "metadata": {},
   "source": [
    "# Array slicing\n",
    "\n",
    "è un modo potente per estrarre porzioni di array in base a determinati criteri. Con il slicing, puoi selezionare un sottoinsieme di elementi di un array in base alla loro posizione lungo uno o più assi.\n",
    "\n",
    "Lo slicing degli array NumPy avviene specificando una sequenza di indici o intervalli separati da virgole all'interno delle parentesi quadre. Gli indici o gli intervalli indicano quali elementi dell'array verranno inclusi nella selezione.\n",
    "- array[1:4] seleziona gli elementi dall'indice 1 all'indice 3 (l'indice finale è escluso).\n",
    "- array[::2] seleziona ogni secondo elemento dell'array.\n",
    "- matrice[:, 0] seleziona tutti gli elementi della prima colonna della matrice.\n",
    "- matrice[1:, :2] seleziona una porzione rettangolare della matrice, includendo tutte le righe dalla seconda in poi e solo le prime due colonne."
   ]
  },
  {
   "cell_type": "code",
   "execution_count": null,
   "id": "62a4e208",
   "metadata": {},
   "outputs": [],
   "source": [
    "# usando l'array rand_3d seleziona le prime 2 righe di ogni colonna"
   ]
  },
  {
   "cell_type": "code",
   "execution_count": 62,
   "id": "8f9e9acf",
   "metadata": {
    "scrolled": true
   },
   "outputs": [],
   "source": [
    "# Slicing per selezionare una sezione di dimensioni 3x3x3 dalla matrice"
   ]
  },
  {
   "cell_type": "code",
   "execution_count": 63,
   "id": "87fa83f7",
   "metadata": {},
   "outputs": [],
   "source": [
    "# Slicing per selezionare la prima riga di ogni matrice nella dimensione 2"
   ]
  },
  {
   "cell_type": "markdown",
   "id": "30400903",
   "metadata": {},
   "source": [
    "# Filtrare array\n",
    "\n",
    "Sugli array è possibile fare operazioni booleane"
   ]
  },
  {
   "cell_type": "code",
   "execution_count": 64,
   "id": "c144c432",
   "metadata": {},
   "outputs": [
    {
     "name": "stdout",
     "output_type": "stream",
     "text": [
      "Nomi dei prodotti: ['Prodotto 1' 'Prodotto 2' 'Prodotto 3' 'Prodotto 4' 'Prodotto 5']\n",
      "Prezzi dei prodotti: [10.99 19.99  5.49  7.95 12.5 ]\n"
     ]
    }
   ],
   "source": [
    "# Array con i nomi dei prodotti\n",
    "nomi_prodotti = np.array([\"Prodotto 1\", \"Prodotto 2\", \"Prodotto 3\", \"Prodotto 4\", \"Prodotto 5\"])\n",
    "\n",
    "# Array con i prezzi dei prodotti\n",
    "prezzi_prodotti = np.array([10.99, 19.99, 5.49, 7.95, 12.50])\n",
    "\n",
    "# Stampiamo i due array\n",
    "print(\"Nomi dei prodotti:\", nomi_prodotti)\n",
    "print(\"Prezzi dei prodotti:\", prezzi_prodotti)"
   ]
  },
  {
   "cell_type": "code",
   "execution_count": 66,
   "id": "ba1b077b",
   "metadata": {},
   "outputs": [],
   "source": [
    "cond_min10 = prezzi_prodotti <= 10"
   ]
  },
  {
   "cell_type": "markdown",
   "id": "3c92604c",
   "metadata": {},
   "source": [
    "applicando l'array booleano a un array con i dati otterrò l'array filtrato"
   ]
  },
  {
   "cell_type": "code",
   "execution_count": 67,
   "id": "b35b048d",
   "metadata": {},
   "outputs": [
    {
     "data": {
      "text/plain": [
       "array([5.49, 7.95])"
      ]
     },
     "execution_count": 67,
     "metadata": {},
     "output_type": "execute_result"
    }
   ],
   "source": [
    "prezzi_prodotti[cond_min10]"
   ]
  },
  {
   "cell_type": "code",
   "execution_count": 38,
   "id": "4002705c",
   "metadata": {},
   "outputs": [
    {
     "data": {
      "text/plain": [
       "array(['rare tomato', 'cola', 'gourmet ice cream'], dtype='<U17')"
      ]
     },
     "execution_count": 38,
     "metadata": {},
     "output_type": "execute_result"
    }
   ],
   "source": [
    "# trovare nell'array rand_3d i tutti i valori > 90"
   ]
  },
  {
   "cell_type": "markdown",
   "id": "44ce04ed",
   "metadata": {},
   "source": [
    "# Ordinamento"
   ]
  },
  {
   "cell_type": "code",
   "execution_count": 49,
   "id": "f97f4598",
   "metadata": {},
   "outputs": [],
   "source": [
    "prices = np.array([5.99, 6.99, 22.49, 99.99, 4.99, 49.99])\n",
    "prices.sort()"
   ]
  },
  {
   "cell_type": "code",
   "execution_count": 50,
   "id": "c462eeef",
   "metadata": {},
   "outputs": [
    {
     "data": {
      "text/plain": [
       "array([ 4.99,  5.99,  6.99, 22.49, 49.99, 99.99])"
      ]
     },
     "execution_count": 50,
     "metadata": {},
     "output_type": "execute_result"
    }
   ],
   "source": [
    "prices"
   ]
  },
  {
   "cell_type": "code",
   "execution_count": 51,
   "id": "4a0b5694",
   "metadata": {},
   "outputs": [
    {
     "data": {
      "text/plain": [
       "array([22.49, 49.99, 99.99])"
      ]
     },
     "execution_count": 51,
     "metadata": {},
     "output_type": "execute_result"
    }
   ],
   "source": [
    "# estrapolare i 3 prezzi più alti"
   ]
  },
  {
   "cell_type": "markdown",
   "id": "3a249a47",
   "metadata": {},
   "source": [
    "età dei dipendenti: 28 42 35 56 30 45 38 50 33 29 41 47 31 36 55 40 48 34 43 52 27 44 37 49 32 39 51 46 53 54\n",
    "\n",
    "Creare un "
   ]
  },
  {
   "cell_type": "code",
   "execution_count": 52,
   "id": "de696f1a",
   "metadata": {},
   "outputs": [
    {
     "name": "stdout",
     "output_type": "stream",
     "text": [
      "Mean: 57.49\n",
      "Min: 22.49\n",
      "Max: 99.99\n",
      "Median: 49.99\n"
     ]
    }
   ],
   "source": [
    "eta = np.zeros(30)\n",
    "print(f\"Mean: {eta.mean()}\")\n",
    "print(f\"Min: {eta.min()}\")\n",
    "print(f\"Max: {eta.max()}\")\n",
    "print(f\"Median: {np.median(eta)}\")"
   ]
  },
  {
   "cell_type": "markdown",
   "id": "fd4f38b2",
   "metadata": {},
   "source": [
    "#### Esempio dei larici \n",
    "\n",
    "Larice1\n",
    "Larice2\n",
    "Larice3\n",
    "Larice4\n",
    "Larice5\n",
    "Larice6\n",
    "Larice7\n",
    "Larice8\n",
    "Larice9\n",
    "Larice10\n",
    "Larice11\n",
    "Larice12\n",
    "Larice13\n",
    "Larice14\n",
    "Larice15\n"
   ]
  },
  {
   "cell_type": "code",
   "execution_count": 71,
   "id": "1abef02d",
   "metadata": {},
   "outputs": [
    {
     "data": {
      "text/plain": [
       "array([['Sud', 'Est', 'Ovest', 'Sud', 'Est', 'Est', 'Ovest', 'Est',\n",
       "        'Est', 'Nord', 'Ovest', 'Nord', 'Nord', 'Ovest', 'Nord'],\n",
       "       ['12', '14', '16', '11', '15', '17', '16', '15', '16', '14', '15',\n",
       "        '13', '14', '12', '14']], dtype='<U21')"
      ]
     },
     "execution_count": 71,
     "metadata": {},
     "output_type": "execute_result"
    }
   ],
   "source": [
    "esposizione = np.array(\n",
    "[\n",
    "    \"Sud\",\n",
    "    \"Est\",\n",
    "    \"Ovest\",\n",
    "    \"Sud\",\n",
    "    \"Est\",\n",
    "    \"Est\",\n",
    "    \"Ovest\",\n",
    "    \"Est\",\n",
    "    \"Est\",\n",
    "    \"Nord\",\n",
    "    \"Ovest\",\n",
    "    \"Nord\",\n",
    "    \"Nord\",\n",
    "    \"Ovest\",\n",
    "    \"Nord\"\n",
    "])\n",
    "altezza = np.array(\n",
    "[\n",
    "    12,\n",
    "    14,\n",
    "    16,\n",
    "    11,\n",
    "    15,\n",
    "    17,\n",
    "    16,\n",
    "    15,\n",
    "    16,\n",
    "    14,\n",
    "    15,\n",
    "    13,\n",
    "    14,\n",
    "    12,\n",
    "    14,\n",
    "])\n",
    "\n",
    "# frequenza per le 4 esposizioni \n",
    "\n"
   ]
  }
 ],
 "metadata": {
  "kernelspec": {
   "display_name": "Python 3 (ipykernel)",
   "language": "python",
   "name": "python3"
  },
  "language_info": {
   "codemirror_mode": {
    "name": "ipython",
    "version": 3
   },
   "file_extension": ".py",
   "mimetype": "text/x-python",
   "name": "python",
   "nbconvert_exporter": "python",
   "pygments_lexer": "ipython3",
   "version": "3.10.12"
  }
 },
 "nbformat": 4,
 "nbformat_minor": 5
}
